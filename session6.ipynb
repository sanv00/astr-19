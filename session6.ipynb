{
 "cells": [
  {
   "cell_type": "code",
   "execution_count": 1,
   "id": "c6f95913-a86d-4ad9-a2c1-c32753e555d9",
   "metadata": {},
   "outputs": [],
   "source": [
    "# Define a function that returns sin(x)\n",
    "import numpy as np\n",
    "\n",
    "def my_sin(x):\n",
    "    \"\"\"Return the sine of x.\"\"\"\n",
    "    return np.sin(x)"
   ]
  },
  {
   "cell_type": "code",
   "execution_count": 2,
   "id": "71c20cc8-0f42-42af-83ed-8d071118b4a4",
   "metadata": {},
   "outputs": [],
   "source": [
    "# Define a function that returns cos(x)\n",
    "def my_cos(x):\n",
    "    \"\"\"Return the cosine of x.\"\"\"\n",
    "    return np.cos(x)"
   ]
  },
  {
   "cell_type": "markdown",
   "id": "9be391cf-479c-4f45-9ded-1a51e0d007d0",
   "metadata": {},
   "source": [
    "#The following functions return the cosine of `x` and sine of `x` using NumPy's built-in `cos()` and `sin()` method."
   ]
  },
  {
   "cell_type": "code",
   "execution_count": 3,
   "id": "d6332deb-0e40-4b18-a621-5322ddb51920",
   "metadata": {},
   "outputs": [],
   "source": [
    "# Tabulate sin(x) and cos(x) for x between 0 and 2\n",
    "x = np.linspace(0, 2, 1000)\n",
    "sin_values = my_sin(x)\n",
    "cos_values = my_cos(x)"
   ]
  },
  {
   "cell_type": "markdown",
   "id": "a7bd6c64-3b81-40dd-93cd-46015c4ea7f0",
   "metadata": {},
   "source": [
    "We now have created an array of 1000 equally spaced values of `x` between 0 and 2,  \n",
    "and compute `sin(x)` and `cos(x)` using our defined functions."
   ]
  },
  {
   "cell_type": "code",
   "execution_count": 4,
   "id": "aca6565a-a6cb-48f9-80e5-45e1ba0b3952",
   "metadata": {},
   "outputs": [
    {
     "name": "stdout",
     "output_type": "stream",
     "text": [
      "         x          sin(x)          cos(x)\n",
      "----------------------------------------\n",
      "  0.000000        0.000000        1.000000\n",
      "  0.002002        0.002002        0.999998\n",
      "  0.004004        0.004004        0.999992\n",
      "  0.006006        0.006006        0.999982\n",
      "  0.008008        0.008008        0.999968\n",
      "  0.010010        0.010010        0.999950\n",
      "  0.012012        0.012012        0.999928\n",
      "  0.014014        0.014014        0.999902\n",
      "  0.016016        0.016015        0.999872\n",
      "  0.018018        0.018017        0.999838\n"
     ]
    }
   ],
   "source": [
    "# Print first 10 values of x, sin(x), and cos(x)\n",
    "print(f\"{'x':>10} {'sin(x)':>15} {'cos(x)':>15}\")\n",
    "print(\"-\" * 40)\n",
    "for i in range(10):\n",
    "    print(f\"{x[i]:10.6f} {sin_values[i]:15.6f} {cos_values[i]:15.6f}\")"
   ]
  },
  {
   "cell_type": "markdown",
   "id": "df724703-2615-424d-81ab-4350f63b138e",
   "metadata": {},
   "source": [
    "Finally, we used a for loop to print out the first 10 values of `x`, `sin(x)`, and `cos(x)` in columns."
   ]
  },
  {
   "cell_type": "code",
   "execution_count": null,
   "id": "5f17488b-9307-4a1a-bdeb-0533e7a0cb51",
   "metadata": {},
   "outputs": [],
   "source": []
  }
 ],
 "metadata": {
  "kernelspec": {
   "display_name": "Python 3 (ipykernel)",
   "language": "python",
   "name": "python3"
  },
  "language_info": {
   "codemirror_mode": {
    "name": "ipython",
    "version": 3
   },
   "file_extension": ".py",
   "mimetype": "text/x-python",
   "name": "python",
   "nbconvert_exporter": "python",
   "pygments_lexer": "ipython3",
   "version": "3.13.7"
  }
 },
 "nbformat": 4,
 "nbformat_minor": 5
}
